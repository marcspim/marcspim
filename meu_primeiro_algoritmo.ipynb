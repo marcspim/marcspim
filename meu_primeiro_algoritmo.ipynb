{
  "nbformat": 4,
  "nbformat_minor": 0,
  "metadata": {
    "colab": {
      "provenance": [],
      "authorship_tag": "ABX9TyOSeBCz71uy3rh3jbiHkKyk",
      "include_colab_link": true
    },
    "kernelspec": {
      "name": "python3",
      "display_name": "Python 3"
    },
    "language_info": {
      "name": "python"
    }
  },
  "cells": [
    {
      "cell_type": "markdown",
      "metadata": {
        "id": "view-in-github",
        "colab_type": "text"
      },
      "source": [
        "<a href=\"https://colab.research.google.com/github/marcspim/marcspim/blob/main/meu_primeiro_algoritmo.ipynb\" target=\"_parent\"><img src=\"https://colab.research.google.com/assets/colab-badge.svg\" alt=\"Open In Colab\"/></a>"
      ]
    },
    {
      "cell_type": "markdown",
      "source": [
        "# Meu primeiro algoritmo\n",
        "\n",
        "Aula 1 do Módulo 5 do curso de Cientista de Dados da EBAC, para aprendizado de conceitos básicos de Python e Google Colab."
      ],
      "metadata": {
        "id": "LCDFKmmNzJKw"
      }
    },
    {
      "cell_type": "code",
      "execution_count": 1,
      "metadata": {
        "colab": {
          "base_uri": "https://localhost:8080/"
        },
        "id": "zbtGHW-0xDgN",
        "outputId": "e88b272e-aa99-4077-8b44-ee297e0a9691"
      },
      "outputs": [
        {
          "output_type": "stream",
          "name": "stdout",
          "text": [
            "Olá, Mundo!\n"
          ]
        }
      ],
      "source": [
        "print('Olá, Mundo!')"
      ]
    }
  ]
}